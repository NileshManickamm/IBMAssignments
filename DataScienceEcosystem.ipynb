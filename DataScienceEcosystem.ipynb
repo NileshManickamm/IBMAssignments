{
 "cells": [
  {
   "cell_type": "markdown",
   "id": "f4a1d4ce-912c-40be-b140-0d124ba4dc5a",
   "metadata": {},
   "source": [
    "# Data Science Tools and Ecosystem"
   ]
  },
  {
   "cell_type": "markdown",
   "id": "b30cbc50-e066-466e-a380-b5fb89f485b2",
   "metadata": {},
   "source": [
    "In this notebook, Data Science Tools and Ecosystem are summarized."
   ]
  },
  {
   "cell_type": "markdown",
   "id": "c4628d3a-2c7c-4ba9-a3ae-ab9cbdb22e19",
   "metadata": {},
   "source": [
    "**Objectives**\n",
    "+ The course lists the different tools used for data science\n",
    "+ difference between different environments\n",
    "+ Differences between IDE\n",
    "+ RStudio, Python notebook, SQL"
   ]
  },
  {
   "cell_type": "markdown",
   "id": "3c30e05f-c478-4364-a97c-04fb294e9917",
   "metadata": {},
   "source": [
    "#### Some of the popular languages that Data Scientists use are:"
   ]
  },
  {
   "cell_type": "markdown",
   "id": "429a362c-6c75-413f-b6b0-223e8cdc0246",
   "metadata": {},
   "source": [
    "1. Python\n",
    "2. R\n",
    "3. SQL\n",
    "4. Java\n",
    "5. Julia\n",
    "6. Scala\n",
    "7. MATLAB\n",
    "8. SAS\n",
    "9. C++\n",
    "10. JavaScript"
   ]
  },
  {
   "cell_type": "markdown",
   "id": "0ea3c02e-631f-4a11-b8b6-034fd2acae0d",
   "metadata": {},
   "source": [
    "Some of the commonly used libraries used by Data Scientists include:\n",
    "\n",
    "1. NumPy\n",
    "2. GGPlot\n",
    "3. MatplotLib\n",
    "4. Pandas"
   ]
  },
  {
   "cell_type": "markdown",
   "id": "d1bb2283-1368-4552-b4ea-fe9631ea6610",
   "metadata": {},
   "source": [
    "| Data Science Tools |\n",
    "|-----------|\n",
    "|Pyhton|\n",
    "|RStudio|\n",
    "|MySQL|\n"
   ]
  },
  {
   "cell_type": "markdown",
   "id": "7d9acbe5-70bd-4468-965f-69049f4d9d90",
   "metadata": {},
   "source": [
    "### Below are a few examples of evaluating arithmetic expressions in Python"
   ]
  },
  {
   "cell_type": "code",
   "execution_count": 8,
   "id": "62590e2f-632c-4076-8dab-b8d5764f18b3",
   "metadata": {},
   "outputs": [
    {
     "name": "stdout",
     "output_type": "stream",
     "text": [
      "17\n"
     ]
    }
   ],
   "source": [
    "##### This a simple arithmetic expression to mutiply then add integers\n",
    "\n",
    "print((3*4)+5)"
   ]
  },
  {
   "cell_type": "code",
   "execution_count": 10,
   "id": "df9566ba-b817-4fdf-9db5-d68349ae7bdb",
   "metadata": {},
   "outputs": [
    {
     "name": "stdout",
     "output_type": "stream",
     "text": [
      "3.3333333333333335\n"
     ]
    }
   ],
   "source": [
    "##### This will convert 200 minutes to hours by diving by 60\n",
    "\n",
    "print( 200/60)"
   ]
  },
  {
   "cell_type": "markdown",
   "id": "153ed0e5-694c-4c3c-9d24-68dbc0182713",
   "metadata": {},
   "source": [
    "## Author\n",
    "Nilesh"
   ]
  },
  {
   "cell_type": "code",
   "execution_count": null,
   "id": "23579a0f-6fd6-41a8-9fa9-4bc3fda4032e",
   "metadata": {},
   "outputs": [],
   "source": []
  }
 ],
 "metadata": {
  "kernelspec": {
   "display_name": "Python 3 (ipykernel)",
   "language": "python",
   "name": "python3"
  },
  "language_info": {
   "codemirror_mode": {
    "name": "ipython",
    "version": 3
   },
   "file_extension": ".py",
   "mimetype": "text/x-python",
   "name": "python",
   "nbconvert_exporter": "python",
   "pygments_lexer": "ipython3",
   "version": "3.11.9"
  }
 },
 "nbformat": 4,
 "nbformat_minor": 5
}
